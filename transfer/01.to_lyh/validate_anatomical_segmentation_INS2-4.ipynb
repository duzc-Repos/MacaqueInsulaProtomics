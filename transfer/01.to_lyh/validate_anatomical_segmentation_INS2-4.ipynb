{
 "cells": [
  {
   "cell_type": "code",
   "execution_count": 1,
   "metadata": {},
   "outputs": [],
   "source": [
    "import numpy as np\n",
    "import pandas as pd\n",
    "import matplotlib.pyplot as plt\n",
    "import plotnine as p9\n",
    "import pickle\n",
    "\n",
    "from sklearn import preprocessing\n",
    "from sklearn.decomposition import PCA\n",
    "import scipy.io as sp_io\n",
    "from scipy.stats import kstest as sp_kstest\n",
    "from scipy.stats import ttest_ind as sp_ttest"
   ]
  },
  {
   "cell_type": "code",
   "execution_count": 2,
   "metadata": {},
   "outputs": [
    {
     "data": {
      "text/plain": [
       "((11,), (11,), (11,))"
      ]
     },
     "execution_count": 2,
     "metadata": {},
     "output_type": "execute_result"
    }
   ],
   "source": [
    "# load gradient\n",
    "structral_gradient = pd.read_csv(\"./dat/insula_gredient.tsv\", sep=\"\\t\", index_col=0, header=None).values[:15].flatten()[4:]\n",
    "thickness_gradient = np.delete(sp_io.loadmat(\"./dat/INS_thickness_myelin.mat\")['INSthickness'].flatten(), 1)[3:]\n",
    "myelin_gradient = pd.read_excel(\"./dat/INSsam_myelin.xlsx\", header=None).values.flatten()[4:]\n",
    "\n",
    "# L2 normalization\n",
    "all_gradients_scale = [ preprocessing.normalize(gred.reshape(-1, 1), norm=\"l2\", axis=0)  for gred in [structral_gradient,  myelin_gradient, thickness_gradient] ]\n",
    "structral_gradient.shape, thickness_gradient.shape, myelin_gradient.shape"
   ]
  },
  {
   "cell_type": "code",
   "execution_count": 3,
   "metadata": {},
   "outputs": [
    {
     "data": {
      "text/plain": [
       "((6090, 11), (361, 11), (1669, 11))"
      ]
     },
     "execution_count": 3,
     "metadata": {},
     "output_type": "execute_result"
    }
   ],
   "source": [
    "# load protein expr of different gene set\n",
    "## 1. total expr\n",
    "expr = pd.read_csv(\"./dat/protomics_expr_processed.tsv\", sep=\"\\t\", index_col=0)\n",
    "expr_scale = pd.DataFrame(preprocessing.scale(expr, axis=1), index=expr.index, columns=expr.columns)\n",
    "\n",
    "select_idx = list(range(4, 15))\n",
    "\n",
    "## 3. layer marker\n",
    "layer_marker = pd.read_csv(\"./dat/layer_marker.genelist\", header=None).values.flatten()\n",
    "idx = pd.Series(expr_scale.index).str.split('|', expand=True)[1].isin(layer_marker)\n",
    "layer_expr = expr_scale.values[idx, :][:, select_idx]\n",
    "\n",
    "## 4. synaptome\n",
    "synaptome_genelist = pd.read_csv(\"./dat/synaptome.genelist\", header=None).values.flatten()\n",
    "synaptome_idx = pd.Series(expr_scale.index).str.split('|', expand=True)[1].isin(synaptome_genelist)\n",
    "synaptome_expr = expr_scale.values[synaptome_idx, :][:, select_idx]\n",
    "\n",
    "expr_scale = expr_scale.values[:, select_idx]\n",
    "expr_scale.shape, layer_expr.shape, synaptome_expr.shape"
   ]
  },
  {
   "cell_type": "code",
   "execution_count": 4,
   "metadata": {},
   "outputs": [],
   "source": [
    "def calc_explained_variance(gred_norm, cov):\n",
    "    return np.dot(gred_norm.T, cov).dot(gred_norm)"
   ]
  },
  {
   "cell_type": "code",
   "execution_count": 5,
   "metadata": {},
   "outputs": [
    {
     "data": {
      "text/html": [
       "<div>\n",
       "<style scoped>\n",
       "    .dataframe tbody tr th:only-of-type {\n",
       "        vertical-align: middle;\n",
       "    }\n",
       "\n",
       "    .dataframe tbody tr th {\n",
       "        vertical-align: top;\n",
       "    }\n",
       "\n",
       "    .dataframe thead th {\n",
       "        text-align: right;\n",
       "    }\n",
       "</style>\n",
       "<table border=\"1\" class=\"dataframe\">\n",
       "  <thead>\n",
       "    <tr style=\"text-align: right;\">\n",
       "      <th></th>\n",
       "      <th>Connectivity</th>\n",
       "      <th>Myelin</th>\n",
       "      <th>Thickness</th>\n",
       "      <th>Gene set</th>\n",
       "    </tr>\n",
       "  </thead>\n",
       "  <tbody>\n",
       "    <tr>\n",
       "      <th>0</th>\n",
       "      <td>0.459814</td>\n",
       "      <td>0.428674</td>\n",
       "      <td>0.299235</td>\n",
       "      <td>All</td>\n",
       "    </tr>\n",
       "    <tr>\n",
       "      <th>1</th>\n",
       "      <td>0.393904</td>\n",
       "      <td>0.355624</td>\n",
       "      <td>0.272049</td>\n",
       "      <td>Layer marker</td>\n",
       "    </tr>\n",
       "    <tr>\n",
       "      <th>2</th>\n",
       "      <td>0.476390</td>\n",
       "      <td>0.439152</td>\n",
       "      <td>0.272342</td>\n",
       "      <td>Synaptome</td>\n",
       "    </tr>\n",
       "  </tbody>\n",
       "</table>\n",
       "</div>"
      ],
      "text/plain": [
       "   Connectivity    Myelin  Thickness      Gene set\n",
       "0      0.459814  0.428674   0.299235           All\n",
       "1      0.393904  0.355624   0.272049  Layer marker\n",
       "2      0.476390  0.439152   0.272342     Synaptome"
      ]
     },
     "execution_count": 5,
     "metadata": {},
     "output_type": "execute_result"
    }
   ],
   "source": [
    "def calc_explained_variance(gred_norm, cov):\n",
    "    return np.dot(gred_norm.T, cov).dot(gred_norm)\n",
    "\n",
    "gene_set_label = [\"All\", \"Layer marker\", \"Synaptome\"]\n",
    "compare_res_var = []\n",
    "for i, gene_set_expr in enumerate([expr_scale, layer_expr, synaptome_expr]):\n",
    "    gene_set_expr= np.array(gene_set_expr)\n",
    "    pca_obj_15sample = PCA(n_components=1).fit(gene_set_expr.T)\n",
    "    #pca_obj_14sample = PCA(n_components=1).fit(np.delete(gene_set_expr, 1, axis=1).T)\n",
    "\n",
    "    comp1_15sample = pca_obj_15sample.fit_transform(gene_set_expr.T)\n",
    "    #comp1_14sample = pca_obj_14sample.fit_transform(np.delete(gene_set_expr, 1, axis=1).T)\n",
    "\n",
    "    comp1_15sample_norm = preprocessing.normalize(comp1_15sample, norm=\"l2\", axis=0)\n",
    "    #comp1_14sample_norm = preprocessing.normalize(comp1_14sample, norm=\"l2\", axis=0)\n",
    "\n",
    "    cov_15sample = np.cov(gene_set_expr.T)\n",
    "    #cov_14sample= np.cov(np.delete(gene_set_expr, 1, axis=1).T)\n",
    "\n",
    "    compare_res_var.append([ calc_explained_variance(all_gradients_scale[0], cov_15sample)[0, 0], \n",
    "                             calc_explained_variance(all_gradients_scale[1], cov_15sample)[0, 0],\n",
    "                             calc_explained_variance(all_gradients_scale[2], cov_15sample)[0, 0], gene_set_label[i] ])\n",
    "\n",
    "pd.DataFrame(compare_res_var, columns=[\"Connectivity\", \"Myelin\", \"Thickness\", \"Gene set\"])"
   ]
  },
  {
   "cell_type": "code",
   "execution_count": 6,
   "metadata": {},
   "outputs": [],
   "source": [
    "# bootstrap sampling: estimate the std and distribution of the statistic (captured variance)\n",
    "boot_vars = []\n",
    "n_boot = 1000\n",
    "for i, gene_set_expr in enumerate([expr_scale, layer_expr, synaptome_expr]):\n",
    "    tmp = np.empty(shape=(n_boot, 3))\n",
    "    \n",
    "    # for each gene set, resample the gene with replace and re-calculate the statistic (captured variance) to construct the potential distribution and estimate the std\n",
    "    n_genes = gene_set_expr.shape[0]\n",
    "    for k in range(n_boot):\n",
    "        resampled_idx = np.random.choice(range(n_genes), size=n_genes, replace=True)\n",
    "        resampled_expr = np.array(gene_set_expr)[resampled_idx, :]\n",
    "\n",
    "        resampled_cov_15sample = np.cov(resampled_expr.T)\n",
    "        #resampled_cov_14sample = np.cov(np.delete(resampled_expr, 1, axis=1).T)\n",
    "\n",
    "        resampled_pc1_15sample = preprocessing.normalize( PCA(n_components=1).fit_transform(resampled_expr.T), norm=\"l2\", axis=0)\n",
    "        #resampled_pc1_14sample = preprocessing.normalize( PCA(n_components=1).fit_transform(np.delete(resampled_expr, 1, axis=1).T), norm=\"l2\", axis=0)\n",
    "\n",
    "        tmp[k, :] = [ calc_explained_variance(all_gradients_scale[0], resampled_cov_15sample)[0, 0],\n",
    "                      calc_explained_variance(all_gradients_scale[1], resampled_cov_15sample)[0, 0],\n",
    "                      calc_explained_variance(all_gradients_scale[2], resampled_cov_15sample)[0, 0], ]\n",
    "    boot_vars.append(tmp)"
   ]
  },
  {
   "cell_type": "code",
   "execution_count": 7,
   "metadata": {},
   "outputs": [],
   "source": [
    "pickle.dump(boot_vars, open(\"./dat/bootstrap_variance_INS2-4.pkl\", \"wb\"))\n",
    "boot_vars = pickle.load(open(\"./dat/bootstrap_variance_INS2-4.pkl\",\"rb\"))"
   ]
  },
  {
   "cell_type": "code",
   "execution_count": 12,
   "metadata": {},
   "outputs": [],
   "source": [
    "# prepare the dat for plot\n",
    "\n",
    "## dat for bar plot\n",
    "compare_dat = pd.DataFrame(compare_res_var, columns=[\"Connectivity\", \"Myelin\", \"Thickness\", \"Gene_sets\"])\n",
    "\n",
    "## calc error bar\n",
    "compare_std = np.array(boot_vars).std(axis=1)[:, 2:]\n",
    "upper_line = compare_dat.iloc[:, :3] + compare_std\n",
    "upper_line[\"Gene_sets\"] = compare_dat[\"Gene_sets\"]\n",
    "lower_line = compare_dat.iloc[:, :3] - compare_std\n",
    "lower_line[\"Gene_sets\"] = compare_dat[\"Gene_sets\"]\n",
    "\n",
    "## chanage data format to match plotnine\n",
    "compare_dat = compare_dat.melt(id_vars=[\"Gene_sets\"], var_name=\"Gradient\", value_name=\"Value\")\n",
    "compare_dat[\"Gradient\"] = pd.Categorical(compare_dat[\"Gradient\"], categories=[\"Connectivity\", \"Myelin\", \"Thickness\"])\n",
    "upper_line = upper_line.melt(id_vars=[\"Gene_sets\"], var_name=\"Gradient\", value_name=\"Upper\")\n",
    "lower_line = lower_line.melt(id_vars=[\"Gene_sets\"], var_name=\"Gradient\", value_name=\"Lower\")\n",
    "compare_errbar = pd.merge(upper_line, lower_line, how=\"left\")\n",
    "compare_errbar[\"Gradient\"] = pd.Categorical(compare_errbar[\"Gradient\"], categories=[\"Connectivity\", \"Myelin\", \"Thickness\"])\n",
    "compare_errbar[\"Value\"] = compare_dat['Value']\n",
    "\n",
    "## dat for plot line segment: \n",
    "step = 0.1\n",
    "seg_line = pd.DataFrame()\n",
    "seg_line[\"Gene_sets\"] = [\"All\", \"Layer marker\", \"Synaptome\"]\n",
    "seg_line[\"y1\"] = compare_errbar[\"Upper\"].groupby(compare_errbar[\"Gene_sets\"]).max().values * 1.05\n",
    "seg_line[\"y2\"] = seg_line[\"y1\"] + step\n",
    "seg_line[\"y3\"] = seg_line[\"y2\"] + step\n",
    "seg_line[\"Gradient\"] = \"Connectivity\"\n",
    "seg_line2 = seg_line.copy()\n",
    "seg_line2[\"Gradient\"] = \"Myelin\"\n",
    "\n",
    "## dat for annotate the P-val\n",
    "txt_dat = pd.DataFrame()\n",
    "txt_dat[\"Gene_sets\"] = [\"All\", \"Layer marker\", \"Synaptome\"]\n",
    "txt_dat[\"Gradient\"] = \"Connectivity\"\n",
    "txt_dat[\"Label1\"] = \"\"\n",
    "txt_dat[\"Label2\"] = \"\"\n",
    "txt_dat[\"y1\"] = seg_line[\"y1\"] + step/2\n",
    "txt_dat[\"y2\"] = seg_line[\"y2\"] + step/2\n",
    "\n",
    "for i, dat in enumerate(boot_vars):\n",
    "    pval1 = f\"P = {sp_kstest(dat[:, 0], dat[:, 1])[-1]:.3e}\"\n",
    "    pval2 = f\"P = {sp_kstest(dat[:, 0], dat[:, 2])[-1]:.3e}\"\n",
    "\n",
    "    #pval1 = f\"P = {sp_ttest(dat[:, 0], dat[:, 1], equal_var=False)[-1]:.3e}\"\n",
    "    #pval2 = f\"P = {sp_ttest(dat[:, 0], dat[:, 2], equal_var=False)[-1]:.3e}\"\n",
    "    txt_dat.loc[i, \"Label1\"] = pval1\n",
    "    txt_dat.loc[i, \"Label2\"] = pval2"
   ]
  },
  {
   "cell_type": "code",
   "execution_count": 14,
   "metadata": {},
   "outputs": [
    {
     "data": {
      "image/png": "[encoded data removed]",
      "text/plain": [
       "<Figure size 1400x400 with 3 Axes>"
      ]
     },
     "metadata": {},
     "output_type": "display_data"
    },
    {
     "data": {
      "text/plain": [
       "<ggplot: (8739566538870)>"
      ]
     },
     "execution_count": 14,
     "metadata": {},
     "output_type": "execute_result"
    }
   ],
   "source": [
    "compare_plot = (\n",
    "    p9.ggplot(p9.aes(x=\"Gradient\", y=\"Value\", fill=\"Gradient\"), compare_dat)\n",
    "    + p9.geom_bar(stat=\"identity\", width=0.7)\n",
    "    + p9.geom_errorbar(p9.aes(ymin=\"Lower\", ymax=\"Upper\"), compare_errbar, width=0.3)\n",
    "    #+ p9.geom_segment(p9.aes(x=0, y=\"Upper+0.2\", xend=1, yend=\"Upper+0.2\"), seg_line)\n",
    "    + p9.geom_segment(p9.aes(x=\"Gradient\", xend=2, y=\"y1\", yend=\"y1\"), seg_line)\n",
    "    + p9.geom_segment(p9.aes(x=\"Gradient\", xend=3, y=\"y2\", yend=\"y2\"), seg_line)\n",
    "    + p9.geom_segment(p9.aes(x=\"Gradient\", xend=3, y=\"y3\", yend=\"y3\"), seg_line)\n",
    "    + p9.geom_text(p9.aes(x=\"Gradient\", y=\"y1+0.03\", label=txt_dat[\"Label1\"]), seg_line)\n",
    "    + p9.geom_text(p9.aes(x=\"Gradient\", y=\"y2+0.03\", label=txt_dat[\"Label2\"]), seg_line2)\n",
    "    + p9.theme_classic()\n",
    "    + p9.ylab(\"Expression variance\\n captured by gradient\")\n",
    "    + p9.scale_y_continuous(expand = (0, 0))\n",
    "    + p9.theme(figure_size=(14, 4),\n",
    "               axis_text=p9.element_text(color=\"black\"),\n",
    "               subplots_adjust={'wspace': 0.25}\n",
    "               )\n",
    "    + p9.guides(fill=p9.guide_legend(order=0))\n",
    "    + p9.facet_wrap(\"~Gene_sets\", nrow=1, ncol=4, scales=\"free_y\")\n",
    ")\n",
    "p9.ggsave(compare_plot, \"./compare_gradient_INS2-4.pdf\", verbose=False)\n",
    "compare_plot"
   ]
  },
  {
   "cell_type": "code",
   "execution_count": null,
   "metadata": {},
   "outputs": [],
   "source": []
  },
  {
   "cell_type": "code",
   "execution_count": null,
   "metadata": {},
   "outputs": [],
   "source": []
  }
 ],
 "metadata": {
  "interpreter": {
   "hash": "a5e36beba855bc6cf8e1b53b8ea384ee55d7bdc67b46f3370c013b264bbec88f"
  },
  "kernelspec": {
   "display_name": "Python 3.8.10 ('base')",
   "language": "python",
   "name": "python3"
  },
  "language_info": {
   "codemirror_mode": {
    "name": "ipython",
    "version": 3
   },
   "file_extension": ".py",
   "mimetype": "text/x-python",
   "name": "python",
   "nbconvert_exporter": "python",
   "pygments_lexer": "ipython3",
   "version": "3.8.10"
  },
  "orig_nbformat": 4
 },
 "nbformat": 4,
 "nbformat_minor": 2
}
